{
 "cells": [
  {
   "cell_type": "markdown",
   "id": "4578ca40",
   "metadata": {},
   "source": [
    "# ----------------------------------------------\n",
    "## 1. Lowercasing\n",
    "## 2. Special Character Removal\n",
    "## 3. Stopword Removal\n",
    "## 4. Tokenization"
   ]
  },
  {
   "cell_type": "markdown",
   "id": "fc9b9a4a",
   "metadata": {},
   "source": [
    "# ---------------------------------------------------"
   ]
  },
  {
   "cell_type": "code",
   "execution_count": 27,
   "id": "df72351e",
   "metadata": {},
   "outputs": [
    {
     "name": "stderr",
     "output_type": "stream",
     "text": [
      "[nltk_data] Downloading package punkt to\n",
      "[nltk_data]     C:\\Users\\Lenovo\\AppData\\Roaming\\nltk_data...\n",
      "[nltk_data]   Package punkt is already up-to-date!\n"
     ]
    }
   ],
   "source": [
    "import pandas as pd\n",
    "import nltk\n",
    "import re\n",
    "import sys\n",
    "from nltk.tokenize import word_tokenize\n",
    "from sklearn.feature_extraction.text import CountVectorizer, TfidfTransformer\n",
    "from sklearn.model_selection import train_test_split\n",
    "from sklearn.linear_model import SGDClassifier\n",
    "from sklearn.pipeline import Pipeline\n",
    "import pickle\n",
    "\n",
    "# Add the directory containing preprocessing.py to the system path\n",
    "sys.path.append('C:\\\\xampp\\\\htdocs\\\\pronalysis\\\\public\\\\model')\n",
    "\n",
    "# Import the data function from the preprocessing module\n",
    "from preprocessing import data\n",
    "\n",
    "nltk.download('punkt')\n",
    "\n",
    "# Function to remove emojis from text\n",
    "def remove_emojis(text):\n",
    "    if isinstance(text, str):\n",
    "        emoji_pattern = re.compile(\n",
    "           \"[\"\n",
    "            u\"\\U0001F600-\\U0001F64F\"  # emoticons\n",
    "            u\"\\U0001F300-\\U0001F5FF\"  # symbols & pictographs\n",
    "            u\"\\U0001F680-\\U0001F6FF\"  # transport & map symbols\n",
    "            u\"\\U0001F700-\\U0001F77F\"  # alchemical symbols\n",
    "            u\"\\U0001F780-\\U0001F7FF\"  # Geometric Shapes Extended\n",
    "            u\"\\U0001F800-\\U0001F8FF\"  # Supplemental Arrows-C\n",
    "            u\"\\U0001F900-\\U0001F9FF\"  # Supplemental Symbols and Pictographs\n",
    "            u\"\\U0001FA00-\\U0001FA6F\"  # Chess Symbols\n",
    "            u\"\\U0001FA70-\\U0001FAFF\"  # Symbols and Pictographs Extended-A\n",
    "            u\"\\u2600-\\u26FF\\u2700-\\u27BF\"  # Other symbols\n",
    "            u\"\\u2B50\"  # Star emoji\n",
    "            u\"\\u200D\"  # Zero Width Joiner (ZWJ)\n",
    "            u\"\\u20E3\"  # Combining Enclosing Keycap\n",
    "            u\"\\uFE0F\"  # Variation Selector-16 (VS16)\n",
    "            u\"\\uDBBA\\uDF9A\"  # Additional emoticons\n",
    "            \"]+\",\n",
    "            re.UNICODE,\n",
    "        )\n",
    "        return re.sub(emoji_pattern, '', text)\n",
    "    else:\n",
    "        return text\n",
    "\n",
    "# Load English stop words\n",
    "with open('english_words.txt', 'r') as file:\n",
    "    stop_words = file.read().splitlines()\n",
    "\n",
    "# Load Tagalog stop words and combine with English stop words\n",
    "with open('tagalog_stop_words.txt', 'r') as file:\n",
    "    tagalog_words = file.read().splitlines()\n",
    "stop_words.extend(tagalog_words)\n",
    "\n",
    "# Read data from Excel\n",
    "df = pd.read_excel('brands.xlsx')\n",
    "df.dropna(inplace=True)\n",
    "df['Comments_processed'] = df['Comments'].apply(data)\n",
    "df['Comments_processed'] = df['Comments_processed'].apply(remove_emojis)\n",
    "\n",
    "min_category_size = df['Category'].value_counts().min()\n",
    "df = df.groupby('Category').apply(lambda x: x.sample(min_category_size)).reset_index(drop=True)\n"
   ]
  },
  {
   "cell_type": "code",
   "execution_count": 28,
   "id": "9af41f73",
   "metadata": {},
   "outputs": [
    {
     "data": {
      "text/html": [
       "<div>\n",
       "<style scoped>\n",
       "    .dataframe tbody tr th:only-of-type {\n",
       "        vertical-align: middle;\n",
       "    }\n",
       "\n",
       "    .dataframe tbody tr th {\n",
       "        vertical-align: top;\n",
       "    }\n",
       "\n",
       "    .dataframe thead th {\n",
       "        text-align: right;\n",
       "    }\n",
       "</style>\n",
       "<table border=\"1\" class=\"dataframe\">\n",
       "  <thead>\n",
       "    <tr style=\"text-align: right;\">\n",
       "      <th></th>\n",
       "      <th>Comments</th>\n",
       "      <th>Category</th>\n",
       "      <th>Comments_processed</th>\n",
       "    </tr>\n",
       "  </thead>\n",
       "  <tbody>\n",
       "    <tr>\n",
       "      <th>0</th>\n",
       "      <td>Zara stores in general give me the ick. Someho...</td>\n",
       "      <td>negative</td>\n",
       "      <td>[zara, stores, in, general, give, me, the, ick...</td>\n",
       "    </tr>\n",
       "    <tr>\n",
       "      <th>1</th>\n",
       "      <td>ZARA OUT</td>\n",
       "      <td>negative</td>\n",
       "      <td>[zara, out]</td>\n",
       "    </tr>\n",
       "    <tr>\n",
       "      <th>2</th>\n",
       "      <td>CLOSED ZARA</td>\n",
       "      <td>negative</td>\n",
       "      <td>[closed, zara]</td>\n",
       "    </tr>\n",
       "    <tr>\n",
       "      <th>3</th>\n",
       "      <td>I flipping hate any light coloured dress that ...</td>\n",
       "      <td>negative</td>\n",
       "      <td>[i, flipping, hate, any, light, coloured, dres...</td>\n",
       "    </tr>\n",
       "    <tr>\n",
       "      <th>4</th>\n",
       "      <td>ours is not slaying like this</td>\n",
       "      <td>negative</td>\n",
       "      <td>[ours, is, not, slaying, like, this]</td>\n",
       "    </tr>\n",
       "    <tr>\n",
       "      <th>...</th>\n",
       "      <td>...</td>\n",
       "      <td>...</td>\n",
       "      <td>...</td>\n",
       "    </tr>\n",
       "    <tr>\n",
       "      <th>8326</th>\n",
       "      <td>if anyone likes those trousers banan republic ...</td>\n",
       "      <td>positive</td>\n",
       "      <td>[if, anyone, likes, those, trousers, banan, re...</td>\n",
       "    </tr>\n",
       "    <tr>\n",
       "      <th>8327</th>\n",
       "      <td>Code for thé cardigan plssss</td>\n",
       "      <td>positive</td>\n",
       "      <td>[code, for, th, cardigan, plssss]</td>\n",
       "    </tr>\n",
       "    <tr>\n",
       "      <th>8328</th>\n",
       "      <td>grabe gagandaa!</td>\n",
       "      <td>positive</td>\n",
       "      <td>[grabe, gagandaa]</td>\n",
       "    </tr>\n",
       "    <tr>\n",
       "      <th>8329</th>\n",
       "      <td>shop for me please</td>\n",
       "      <td>positive</td>\n",
       "      <td>[shop, for, me, please]</td>\n",
       "    </tr>\n",
       "    <tr>\n",
       "      <th>8330</th>\n",
       "      <td>We appreciate every bit</td>\n",
       "      <td>positive</td>\n",
       "      <td>[we, appreciate, every, bit]</td>\n",
       "    </tr>\n",
       "  </tbody>\n",
       "</table>\n",
       "<p>8331 rows × 3 columns</p>\n",
       "</div>"
      ],
      "text/plain": [
       "                                               Comments  Category  \\\n",
       "0     Zara stores in general give me the ick. Someho...  negative   \n",
       "1                                              ZARA OUT  negative   \n",
       "2                                           CLOSED ZARA  negative   \n",
       "3     I flipping hate any light coloured dress that ...  negative   \n",
       "4                         ours is not slaying like this  negative   \n",
       "...                                                 ...       ...   \n",
       "8326  if anyone likes those trousers banan republic ...  positive   \n",
       "8327                       Code for thé cardigan plssss  positive   \n",
       "8328                                    grabe gagandaa!  positive   \n",
       "8329                                 shop for me please  positive   \n",
       "8330                            We appreciate every bit  positive   \n",
       "\n",
       "                                     Comments_processed  \n",
       "0     [zara, stores, in, general, give, me, the, ick...  \n",
       "1                                           [zara, out]  \n",
       "2                                        [closed, zara]  \n",
       "3     [i, flipping, hate, any, light, coloured, dres...  \n",
       "4                  [ours, is, not, slaying, like, this]  \n",
       "...                                                 ...  \n",
       "8326  [if, anyone, likes, those, trousers, banan, re...  \n",
       "8327                  [code, for, th, cardigan, plssss]  \n",
       "8328                                  [grabe, gagandaa]  \n",
       "8329                            [shop, for, me, please]  \n",
       "8330                       [we, appreciate, every, bit]  \n",
       "\n",
       "[8331 rows x 3 columns]"
      ]
     },
     "execution_count": 28,
     "metadata": {},
     "output_type": "execute_result"
    }
   ],
   "source": [
    "df"
   ]
  },
  {
   "cell_type": "code",
   "execution_count": 32,
   "id": "433d6811",
   "metadata": {},
   "outputs": [
    {
     "name": "stdout",
     "output_type": "stream",
     "text": [
      "negative    2777\n",
      "neutral     2777\n",
      "positive    2777\n",
      "Name: Category, dtype: int64\n"
     ]
    }
   ],
   "source": [
    "category_counts = df['Category'].value_counts()\n",
    "print(category_counts)"
   ]
  },
  {
   "cell_type": "code",
   "execution_count": 5,
   "id": "3981234f",
   "metadata": {},
   "outputs": [
    {
     "name": "stdout",
     "output_type": "stream",
     "text": [
      "6464\n"
     ]
    }
   ],
   "source": [
    "#Print number of vocabulary/words\n",
    "print(len(bow_transformer.vocabulary_))"
   ]
  },
  {
   "cell_type": "markdown",
   "id": "3d8c4c17",
   "metadata": {},
   "source": [
    "\n",
    "# Create CountVectorizer model"
   ]
  },
  {
   "cell_type": "code",
   "execution_count": 33,
   "id": "02bb46b6",
   "metadata": {},
   "outputs": [
    {
     "name": "stdout",
     "output_type": "stream",
     "text": [
      "6807\n"
     ]
    }
   ],
   "source": [
    "df['Comments'] = df['Comments_processed']\n",
    "bow_transformer = CountVectorizer(analyzer=data).fit(df['Comments'])\n",
    "print(len(bow_transformer.vocabulary_))"
   ]
  },
  {
   "cell_type": "code",
   "execution_count": 34,
   "id": "ea2342f8",
   "metadata": {},
   "outputs": [],
   "source": [
    "# Train-test split\n",
    "comments_train, comments_test, category_train, category_test = train_test_split(\n",
    "    df['Comments'], df['Category'], test_size=0.3, random_state=42\n",
    ")\n"
   ]
  },
  {
   "cell_type": "markdown",
   "id": "807ba07c",
   "metadata": {},
   "source": [
    "\n",
    "# Create and train the SVM model"
   ]
  },
  {
   "cell_type": "code",
   "execution_count": 180,
   "id": "6265dffc",
   "metadata": {},
   "outputs": [],
   "source": [
    "text_clf_svm = Pipeline([\n",
    "    ('vect', CountVectorizer(analyzer=data)),\n",
    "    ('tfidf', TfidfTransformer()),\n",
    "    ('clf-svm', SGDClassifier(loss='squared_hinge', penalty='elasticnet', alpha=1e-3, random_state=42)),\n",
    "])"
   ]
  },
  {
   "cell_type": "code",
   "execution_count": 181,
   "id": "917db50a",
   "metadata": {},
   "outputs": [
    {
     "data": {
      "text/plain": [
       "Pipeline(steps=[('vect',\n",
       "                 CountVectorizer(analyzer=<function data at 0x00000284E5CBECA0>)),\n",
       "                ('tfidf', TfidfTransformer()),\n",
       "                ('clf-svm',\n",
       "                 SGDClassifier(alpha=0.001, loss='squared_hinge',\n",
       "                               penalty='elasticnet', random_state=42))])"
      ]
     },
     "execution_count": 181,
     "metadata": {},
     "output_type": "execute_result"
    }
   ],
   "source": [
    "text_clf_svm.fit(comments_train, category_train)"
   ]
  },
  {
   "cell_type": "code",
   "execution_count": 182,
   "id": "85779b17",
   "metadata": {},
   "outputs": [],
   "source": [
    "from sklearn.metrics import classification_report\n",
    "#predict the test article\n",
    "prediction=text_clf_svm.predict(comments_test)"
   ]
  },
  {
   "cell_type": "code",
   "execution_count": 183,
   "id": "92e6e2b8",
   "metadata": {},
   "outputs": [],
   "source": [
    "# Generate a classification report\n",
    "report = classification_report(category_test, prediction)"
   ]
  },
  {
   "cell_type": "code",
   "execution_count": 184,
   "id": "6fe841eb",
   "metadata": {},
   "outputs": [
    {
     "name": "stdout",
     "output_type": "stream",
     "text": [
      "              precision    recall  f1-score   support\n",
      "\n",
      "    negative       0.75      0.77      0.76       852\n",
      "     neutral       0.67      0.73      0.70       822\n",
      "    positive       0.78      0.69      0.73       826\n",
      "\n",
      "    accuracy                           0.73      2500\n",
      "   macro avg       0.74      0.73      0.73      2500\n",
      "weighted avg       0.74      0.73      0.73      2500\n",
      "\n"
     ]
    }
   ],
   "source": [
    "print(report)"
   ]
  },
  {
   "cell_type": "code",
   "execution_count": 45,
   "id": "a209d3db",
   "metadata": {},
   "outputs": [
    {
     "data": {
      "image/png": "[encoded data removed]",
      "text/plain": [
       "<Figure size 640x480 with 2 Axes>"
      ]
     },
     "metadata": {},
     "output_type": "display_data"
    }
   ],
   "source": [
    "import numpy as np\n",
    "import matplotlib.pyplot as plt\n",
    "from sklearn.metrics import confusion_matrix, ConfusionMatrixDisplay\n",
    "\n",
    "# Make predictions on the test set\n",
    "predicted = text_clf_svm.predict(comments_test)\n",
    "\n",
    "# Generate confusion matrix\n",
    "cm = confusion_matrix(category_test, predicted)\n",
    "\n",
    "# Display the confusion matrix\n",
    "disp = ConfusionMatrixDisplay(confusion_matrix=cm, display_labels=text_clf_svm.classes_)\n",
    "disp.plot(cmap=plt.cm.Blues)\n",
    "plt.title('Confusion Matrix')\n",
    "plt.show()"
   ]
  },
  {
   "cell_type": "code",
   "execution_count": 43,
   "id": "163a9651",
   "metadata": {},
   "outputs": [
    {
     "name": "stdout",
     "output_type": "stream",
     "text": [
      "Input text is empty. Cannot classify.\n"
     ]
    }
   ],
   "source": [
    "input_text = \"\"  \n",
    "\n",
    "if input_text.strip():  \n",
    "    prediction = text_clf_svm.predict([input_text])[0]\n",
    "    print(prediction)\n",
    "else:\n",
    "    print(\"Input text is empty. Cannot classify.\")\n"
   ]
  },
  {
   "cell_type": "markdown",
   "id": "22d6e9e7",
   "metadata": {},
   "source": [
    "# Create and train the KNN model\n"
   ]
  },
  {
   "cell_type": "code",
   "execution_count": 95,
   "id": "5a9c6117",
   "metadata": {},
   "outputs": [
    {
     "data": {
      "text/plain": [
       "Pipeline(steps=[('vect',\n",
       "                 CountVectorizer(analyzer=<function data at 0x00000284E5CBECA0>)),\n",
       "                ('tfidf', TfidfTransformer()),\n",
       "                ('clf-knn', KNeighborsClassifier())])"
      ]
     },
     "execution_count": 95,
     "metadata": {},
     "output_type": "execute_result"
    }
   ],
   "source": [
    "text_clf_knn = Pipeline([\n",
    "    ('vect', CountVectorizer(analyzer=data)),\n",
    "    ('tfidf', TfidfTransformer()),\n",
    "    ('clf-knn', KNeighborsClassifier(n_neighbors=5)),  \n",
    "])"
   ]
  },
  {
   "cell_type": "code",
   "execution_count": 88,
   "id": "83198e09",
   "metadata": {},
   "outputs": [
    {
     "data": {
      "text/plain": [
       "Pipeline(steps=[('vect',\n",
       "                 CountVectorizer(analyzer=<function data at 0x00000284E5CBECA0>)),\n",
       "                ('tfidf', TfidfTransformer()),\n",
       "                ('clf-knn', KNeighborsClassifier())])"
      ]
     },
     "execution_count": 88,
     "metadata": {},
     "output_type": "execute_result"
    }
   ],
   "source": [
    "text_clf_knn.fit(comments_train, category_train)"
   ]
  },
  {
   "cell_type": "code",
   "execution_count": 89,
   "id": "16c59645",
   "metadata": {},
   "outputs": [],
   "source": [
    "from sklearn.metrics import classification_report\n",
    "#predict the test article\n",
    "prediction=text_clf_knn.predict(comments_test)"
   ]
  },
  {
   "cell_type": "code",
   "execution_count": 90,
   "id": "76cb5898",
   "metadata": {},
   "outputs": [],
   "source": [
    "# Generate a classification report\n",
    "report = classification_report(category_test, prediction)"
   ]
  },
  {
   "cell_type": "code",
   "execution_count": 91,
   "id": "a0bf323f",
   "metadata": {},
   "outputs": [
    {
     "name": "stdout",
     "output_type": "stream",
     "text": [
      "              precision    recall  f1-score   support\n",
      "\n",
      "    negative       0.72      0.69      0.71       852\n",
      "     neutral       0.63      0.68      0.65       822\n",
      "    positive       0.70      0.69      0.69       826\n",
      "\n",
      "    accuracy                           0.68      2500\n",
      "   macro avg       0.69      0.68      0.68      2500\n",
      "weighted avg       0.69      0.68      0.68      2500\n",
      "\n"
     ]
    }
   ],
   "source": [
    "print(report)"
   ]
  },
  {
   "cell_type": "code",
   "execution_count": 54,
   "id": "71cac7af",
   "metadata": {},
   "outputs": [
    {
     "data": {
      "image/png": "[encoded data removed]",
      "text/plain": [
       "<Figure size 640x480 with 2 Axes>"
      ]
     },
     "metadata": {},
     "output_type": "display_data"
    }
   ],
   "source": [
    "# Make predictions on the test set\n",
    "predicted = text_clf_knn.predict(comments_test)\n",
    "\n",
    "# Generate confusion matrix\n",
    "cm = confusion_matrix(category_test, predicted)\n",
    "\n",
    "# Display the confusion matrix\n",
    "disp = ConfusionMatrixDisplay(confusion_matrix=cm, display_labels=text_clf_knn.classes_)\n",
    "disp.plot(cmap=plt.cm.Blues)\n",
    "plt.title('Confusion Matrix')\n",
    "plt.show()"
   ]
  },
  {
   "cell_type": "code",
   "execution_count": null,
   "id": "1a7ac602",
   "metadata": {},
   "outputs": [],
   "source": [
    "input_text = \"\"  \n",
    "\n",
    "if input_text.strip():  \n",
    "    prediction = text_clf_svm.predict([input_text])[0]\n",
    "    print(prediction)\n",
    "else:\n",
    "    print(\"Input text is empty. Cannot classify.\")\n"
   ]
  },
  {
   "cell_type": "markdown",
   "id": "1815d180",
   "metadata": {},
   "source": [
    "# Create and train the Naive Bayes model"
   ]
  },
  {
   "cell_type": "code",
   "execution_count": 81,
   "id": "496ef608",
   "metadata": {},
   "outputs": [],
   "source": [
    "from sklearn.neighbors import KNeighborsClassifier\n",
    "from sklearn.naive_bayes import MultinomialNB\n",
    "\n",
    "text_clf_nb = Pipeline([\n",
    "    ('vect', CountVectorizer(analyzer=data)),\n",
    "    ('tfidf', TfidfTransformer()),\n",
    "    ('clf-nb', MultinomialNB()),\n",
    "])\n",
    "\n"
   ]
  },
  {
   "cell_type": "code",
   "execution_count": 82,
   "id": "190a7e61",
   "metadata": {},
   "outputs": [
    {
     "data": {
      "text/plain": [
       "Pipeline(steps=[('vect',\n",
       "                 CountVectorizer(analyzer=<function data at 0x00000284E5CBECA0>)),\n",
       "                ('tfidf', TfidfTransformer()), ('clf-nb', MultinomialNB())])"
      ]
     },
     "execution_count": 82,
     "metadata": {},
     "output_type": "execute_result"
    }
   ],
   "source": [
    "text_clf_nb.fit(comments_train, category_train)"
   ]
  },
  {
   "cell_type": "code",
   "execution_count": 83,
   "id": "06d06c26",
   "metadata": {},
   "outputs": [],
   "source": [
    "from sklearn.metrics import classification_report\n",
    "#predict the test article\n",
    "prediction=text_clf_nb.predict(comments_test)"
   ]
  },
  {
   "cell_type": "code",
   "execution_count": 84,
   "id": "6752555a",
   "metadata": {},
   "outputs": [],
   "source": [
    "# Generate a classification report\n",
    "report = classification_report(category_test, prediction)"
   ]
  },
  {
   "cell_type": "code",
   "execution_count": 85,
   "id": "b5d4646d",
   "metadata": {},
   "outputs": [
    {
     "name": "stdout",
     "output_type": "stream",
     "text": [
      "              precision    recall  f1-score   support\n",
      "\n",
      "    negative       0.71      0.82      0.76       852\n",
      "     neutral       0.69      0.70      0.69       822\n",
      "    positive       0.80      0.66      0.72       826\n",
      "\n",
      "    accuracy                           0.73      2500\n",
      "   macro avg       0.73      0.73      0.73      2500\n",
      "weighted avg       0.73      0.73      0.73      2500\n",
      "\n"
     ]
    }
   ],
   "source": [
    "print(report)"
   ]
  },
  {
   "cell_type": "code",
   "execution_count": 86,
   "id": "f4fe5488",
   "metadata": {},
   "outputs": [
    {
     "data": {
      "image/png": "[encoded data removed]",
      "text/plain": [
       "<Figure size 640x480 with 2 Axes>"
      ]
     },
     "metadata": {},
     "output_type": "display_data"
    }
   ],
   "source": [
    "# Make predictions on the test set\n",
    "predicted = text_clf_nb.predict(comments_test)\n",
    "\n",
    "# Generate confusion matrix\n",
    "cm = confusion_matrix(category_test, predicted)\n",
    "\n",
    "# Display the confusion matrix\n",
    "disp = ConfusionMatrixDisplay(confusion_matrix=cm, display_labels=text_clf_nb.classes_)\n",
    "disp.plot(cmap=plt.cm.Blues)\n",
    "plt.title('Confusion Matrix')\n",
    "plt.show()"
   ]
  },
  {
   "cell_type": "code",
   "execution_count": 192,
   "id": "e64f7c42",
   "metadata": {},
   "outputs": [
    {
     "name": "stdout",
     "output_type": "stream",
     "text": [
      "neutral\n"
     ]
    }
   ],
   "source": [
    "input_text = \"\"  \n",
    "\n",
    "if input_text.strip():  \n",
    "    prediction = text_clf_svm.predict([input_text])[0]\n",
    "    print(prediction)\n",
    "else:\n",
    "    print(\"Input text is empty. Cannot classify.\")\n"
   ]
  },
  {
   "cell_type": "markdown",
   "id": "8fafb3a3",
   "metadata": {},
   "source": [
    "# Save the models"
   ]
  },
  {
   "cell_type": "code",
   "execution_count": null,
   "id": "e03f41ba",
   "metadata": {},
   "outputs": [],
   "source": [
    "with open('text_clf_svm.pkl', 'wb') as file:\n",
    "    pickle.dump(text_clf_svm, file)\n",
    "\n",
    "with open('text_clf_knn.pkl', 'wb') as file:\n",
    "    pickle.dump(text_clf_knn, file)\n",
    "\n",
    "with open('text_clf_nb.pkl', 'wb') as file:\n",
    "    pickle.dump(text_clf_nb, file)"
   ]
  }
 ],
 "metadata": {
  "kernelspec": {
   "display_name": "Python 3 (ipykernel)",
   "language": "python",
   "name": "python3"
  },
  "language_info": {
   "codemirror_mode": {
    "name": "ipython",
    "version": 3
   },
   "file_extension": ".py",
   "mimetype": "text/x-python",
   "name": "python",
   "nbconvert_exporter": "python",
   "pygments_lexer": "ipython3",
   "version": "3.9.12"
  }
 },
 "nbformat": 4,
 "nbformat_minor": 5
}
